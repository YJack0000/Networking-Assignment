{
 "cells": [
  {
   "cell_type": "code",
   "execution_count": null,
   "metadata": {},
   "outputs": [],
   "source": [
    "# name, ID, department"
   ]
  },
  {
   "cell_type": "markdown",
   "metadata": {},
   "source": [
    "### 引用相關套件 ###"
   ]
  },
  {
   "cell_type": "code",
   "execution_count": 1,
   "metadata": {
    "collapsed": true
   },
   "outputs": [],
   "source": [
    "import struct\n",
    "import socket\n",
    "from threading import Thread"
   ]
  },
  {
   "cell_type": "markdown",
   "metadata": {},
   "source": [
    "The multi-thread mechanism is used to implement the upload and download functions of the TFTP Server at the same time."
   ]
  },
  {
   "cell_type": "code",
   "execution_count": 2,
   "metadata": {
    "collapsed": true
   },
   "outputs": [],
   "source": [
    "# Client download thread\n",
    "def download_thread(fileName, clientInfo):\n",
    "    print(\"Responsible for processing client download files\")\n",
    "    \n",
    "    # Create a UDP socket\n",
    "    s = socket.socket(socket.AF_INET, socket.SOCK_DGRAM)\n",
    "    \n",
    "    fileNum = 0 #Indicates the serial number of the received file\n",
    "    \n",
    "    try:\n",
    "        f = open(fileName,'rb')\n",
    "    except:\n",
    "        # Packing\n",
    "        # !: Indicates that we want to use network character order parsing because our data is received from the network. \n",
    "        #    When transmitting on the network, it is the network character order. \n",
    "        # H: The following H indicates the id of an unsigned short.\n",
    "        # b: signed char\n",
    "        errorData = struct.pack('!HHHb', 5, 5, 5, fileNum)\n",
    "        \n",
    "        # Send an error message\n",
    "        s.sendto(errorData, clientInfo)  #Sent the message when the file does not exist\n",
    "        \n",
    "        exit()  #Exit the download thread\n",
    "        \n",
    "    while True:\n",
    "        # Read file contents 512 bytes from local server\n",
    "        readFileData = f.read(512)\n",
    "        \n",
    "        # The block number starts at 0 and increments by one each time. Its range is [0, 65535]\n",
    "        fileNum += 1\n",
    "\n",
    "        if fileNum > 65535: \n",
    "            fileNum = 0\n",
    "        \n",
    "        # Packing\n",
    "        # !: Indicates that we want to use network character order parsing because our data is received from the network. \n",
    "        #    When transmitting on the network, it is the network character order.\n",
    "        # First H: 3(Data)\n",
    "        # Seond H: Block number\n",
    "        sendData = struct.pack('!HH', 3, fileNum) + readFileData \n",
    "\n",
    "        # Send file data to the client\n",
    "        s.sendto(sendData, clientInfo)  #Data sent for the first time\n",
    "        \n",
    "        # When the data received by the client is less than 516 bytes, it means that the transmission is completed!\n",
    "        if len(sendData) < 516:\n",
    "            print(\"User\"+str(clientInfo), end='')\n",
    "            print('：Download '+fileName+' completed！')\n",
    "            break\n",
    "            \n",
    "        # Receiving data for the second time\n",
    "        recvData, clientInfo = s.recvfrom(1024)\n",
    "        #print(recvData, clientInfo)\n",
    "\n",
    "        # Unpacking\n",
    "        packetOpt = struct.unpack(\"!H\", recvData[:2])  #Opcode\n",
    "        packetNum = struct.unpack(\"!H\", recvData[2:4]) #Block number\n",
    "        \n",
    "        #print(packetOpt, packetNum)\n",
    "        \n",
    "        if packetOpt[0] != 4 or packetNum[0] != fileNum:\n",
    "            print(\"File transfer error！\")\n",
    "            break\n",
    "            \n",
    "    # Close file\n",
    "    f.close()\n",
    "    \n",
    "    # Close UDP port\n",
    "    s.close()\n",
    "\n",
    "    # Exit the download thread\n",
    "    exit()"
   ]
  },
  {
   "cell_type": "code",
   "execution_count": 3,
   "metadata": {
    "collapsed": true
   },
   "outputs": [],
   "source": [
    "# Client uploading thread\n",
    "def upload_thread(fileName, clientInfo):\n",
    "    print(\"Responsible for processing client upload files\")\n",
    "    \n",
    "    fileNum = 0 #Indicates the serial number of the received file\n",
    "    \n",
    "    # Open the file in binary mode\n",
    "    f = open(fileName, 'wb')\n",
    "    \n",
    "    # Create a UDP port\n",
    "    s = socket.socket(socket.AF_INET, socket.SOCK_DGRAM)\n",
    "    \n",
    "    # Packing \n",
    "    # struct.pack(fmt, v1, v2, ...): Encapsulate data into strings according to the given format(fmt) \n",
    "    # !: Indicates that we want to use network character order parsing because our data is received from the network. \n",
    "    #    When transmitting on the network, it is the network character order. \n",
    "    # H: The following H indicates the id of an unsigned short.\n",
    "    # unsign short:16bits\n",
    "    sendDataFirst = struct.pack(\"!HH\", 4, fileNum) \n",
    "\n",
    "    # Reply to the client upload request\n",
    "    s.sendto(sendDataFirst, clientInfo)  #Sent with a random port at first time\n",
    "\n",
    "    while True:\n",
    "        # Receive data sent by the client\n",
    "        recvData, clientInfo = s.recvfrom(1024) #Client connects to my random port at second time\n",
    "        \n",
    "        #print(recvData, clientInfo)\n",
    "        \n",
    "        # Unpacking\n",
    "        packetOpt = struct.unpack(\"!H\", recvData[:2])  #Identify opcode\n",
    "        packetNum = struct.unpack(\"!H\", recvData[2:4]) #Block number\n",
    "        \n",
    "        #print(packetOpt, packetNum)\n",
    "        \n",
    "        # implement block counter roll-over\n",
    "        if fileNum == 65536:\n",
    "            fileNum = 0\n",
    "\n",
    "        # Client upload data\n",
    "        # opcode == 3 means Data\n",
    "        if packetOpt[0] == 3 and packetNum[0] == fileNum:\n",
    "            #　Save data to file\n",
    "            f.write(recvData[4:])\n",
    "            \n",
    "            # Packing\n",
    "            sendData = struct.pack(\"!HH\", 4, fileNum)\n",
    "            \n",
    "            # Reply client's ACK signal\n",
    "            s.sendto(sendData, clientInfo) #The second time using a random port to sent\n",
    "            \n",
    "            fileNum += 1\n",
    "            \n",
    "            #If len(recvData) < 516 means the file goes to the end\n",
    "            if len(recvData) < 516:\n",
    "                print(\"User\"+str(clientInfo), end='')\n",
    "                print('：Upload '+fileName+' complete!')\n",
    "                break\n",
    "                \n",
    "    # Close the file\n",
    "    f.close()\n",
    "    \n",
    "    # Close UDP Port\n",
    "    s.close()\n",
    "    \n",
    "    # Exit upload thread\n",
    "    exit()"
   ]
  },
  {
   "cell_type": "code",
   "execution_count": 4,
   "metadata": {
    "collapsed": true
   },
   "outputs": [],
   "source": [
    "# Main function\n",
    "def main():\n",
    "    # Create a UDP port\n",
    "    s = socket.socket(socket.AF_INET, socket.SOCK_DGRAM)\n",
    "    \n",
    "    # Resolve duplicate binding ports\n",
    "    # setsockopt(level,optname,value)\n",
    "    # Level: defines which option will be used. Usually use \"SOL_SOCKET\", it means the socket option being used.\n",
    "    # optname: Provide special options for use. Ex: SO_BINDTODEVICE, SO_BROADCAST, SO_DONTROUTE, SO_REUSEADDR, etc.\n",
    "    s.setsockopt(socket.SOL_SOCKET, socket.SO_REUSEADDR, 1)\n",
    "    \n",
    "    # Bind local host and port number 6969\n",
    "    s.bind(('127.0.0.1', 6969))\n",
    "    \n",
    "    print(\"TFTP Server start successfully!\")\n",
    "    print(\"Server is running...\")\n",
    "    \n",
    "    while True:\n",
    "        \n",
    "        # Receive messages sent by the client\n",
    "        recvData, clientInfo = s.recvfrom(1024)  #　Client connects to port 69 at the first time\n",
    "        #print(clientInfo) \n",
    "        \n",
    "        # Unpacking\n",
    "        # !: Indicates that we want to use network character order parsing because our data is received from the network. \n",
    "        #    When transmitting on the network, it is the network character order. \n",
    "        # b: signed char\n",
    "        # There can be one number before each format, indicating the number\n",
    "        # s: char[]\n",
    "        if struct.unpack('!b5sb', recvData[-7:]) == (0, b'octet', 0):\n",
    "            opcode = struct.unpack('!H',recvData[:2])  #　Opcode\n",
    "            fileName = recvData[2:-7].decode('ascii') #　Filename\n",
    "            \n",
    "            # Request download\n",
    "            # opcode == 1 means download\n",
    "            if opcode[0] == 1:\n",
    "                t = Thread(target=download_thread, args=(fileName, clientInfo))\n",
    "                t.start() # Start the download thread\n",
    "                \n",
    "            # Request uploading\n",
    "            # opcode == 2 means uploading\n",
    "            elif opcode[0] == 2:\n",
    "                t = Thread(target=upload_thread, args=(fileName, clientInfo))\n",
    "                t.start() # Start uploading thread\n",
    "                \n",
    "    # Close UDP port\n",
    "    s.close()"
   ]
  },
  {
   "cell_type": "code",
   "execution_count": 5,
   "metadata": {},
   "outputs": [
    {
     "name": "stdout",
     "output_type": "stream",
     "text": [
      "TFTP Server start successfully!\n",
      "Server is running...\n",
      "Responsible for processing client download files\n",
      "User('127.0.0.1', 54968)：Download bigfile.txt completed！\n"
     ]
    },
    {
     "ename": "KeyboardInterrupt",
     "evalue": "",
     "output_type": "error",
     "traceback": [
      "\u001b[0;31m---------------------------------------------------------------------------\u001b[0m",
      "\u001b[0;31mKeyboardInterrupt\u001b[0m                         Traceback (most recent call last)",
      "\u001b[0;32m<ipython-input-5-3b9a856b57da>\u001b[0m in \u001b[0;36m<module>\u001b[0;34m\u001b[0m\n\u001b[1;32m      1\u001b[0m \u001b[0;31m# Call the main function\u001b[0m\u001b[0;34m\u001b[0m\u001b[0;34m\u001b[0m\u001b[0;34m\u001b[0m\u001b[0m\n\u001b[1;32m      2\u001b[0m \u001b[0;32mif\u001b[0m \u001b[0m__name__\u001b[0m \u001b[0;34m==\u001b[0m \u001b[0;34m'__main__'\u001b[0m\u001b[0;34m:\u001b[0m\u001b[0;34m\u001b[0m\u001b[0;34m\u001b[0m\u001b[0m\n\u001b[0;32m----> 3\u001b[0;31m     \u001b[0mmain\u001b[0m\u001b[0;34m(\u001b[0m\u001b[0;34m)\u001b[0m\u001b[0;34m\u001b[0m\u001b[0;34m\u001b[0m\u001b[0m\n\u001b[0m",
      "\u001b[0;32m<ipython-input-4-a5922476bb94>\u001b[0m in \u001b[0;36mmain\u001b[0;34m()\u001b[0m\n\u001b[1;32m     19\u001b[0m \u001b[0;34m\u001b[0m\u001b[0m\n\u001b[1;32m     20\u001b[0m         \u001b[0;31m# Receive messages sent by the client\u001b[0m\u001b[0;34m\u001b[0m\u001b[0;34m\u001b[0m\u001b[0;34m\u001b[0m\u001b[0m\n\u001b[0;32m---> 21\u001b[0;31m         \u001b[0mrecvData\u001b[0m\u001b[0;34m,\u001b[0m \u001b[0mclientInfo\u001b[0m \u001b[0;34m=\u001b[0m \u001b[0ms\u001b[0m\u001b[0;34m.\u001b[0m\u001b[0mrecvfrom\u001b[0m\u001b[0;34m(\u001b[0m\u001b[0;36m1024\u001b[0m\u001b[0;34m)\u001b[0m  \u001b[0;31m#　Client connects to port 69 at the first time\u001b[0m\u001b[0;34m\u001b[0m\u001b[0;34m\u001b[0m\u001b[0m\n\u001b[0m\u001b[1;32m     22\u001b[0m         \u001b[0;31m#print(clientInfo)\u001b[0m\u001b[0;34m\u001b[0m\u001b[0;34m\u001b[0m\u001b[0;34m\u001b[0m\u001b[0m\n\u001b[1;32m     23\u001b[0m \u001b[0;34m\u001b[0m\u001b[0m\n",
      "\u001b[0;31mKeyboardInterrupt\u001b[0m: "
     ]
    },
    {
     "name": "stderr",
     "output_type": "stream",
     "text": [
      "ERROR:root:Invalid alias: The name clear can't be aliased because it is another magic command.\n",
      "ERROR:root:Invalid alias: The name more can't be aliased because it is another magic command.\n",
      "ERROR:root:Invalid alias: The name less can't be aliased because it is another magic command.\n",
      "ERROR:root:Invalid alias: The name man can't be aliased because it is another magic command.\n"
     ]
    }
   ],
   "source": [
    "# Call the main function\n",
    "if __name__ == '__main__':\n",
    "    main()"
   ]
  },
  {
   "cell_type": "code",
   "execution_count": null,
   "metadata": {
    "collapsed": true
   },
   "outputs": [],
   "source": []
  }
 ],
 "metadata": {
  "kernelspec": {
   "display_name": "Python 3",
   "language": "python",
   "name": "python3"
  },
  "language_info": {
   "codemirror_mode": {
    "name": "ipython",
    "version": 3
   },
   "file_extension": ".py",
   "mimetype": "text/x-python",
   "name": "python",
   "nbconvert_exporter": "python",
   "pygments_lexer": "ipython3",
   "version": "3.7.3"
  }
 },
 "nbformat": 4,
 "nbformat_minor": 2
}
