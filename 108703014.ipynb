{
 "cells": [
  {
   "cell_type": "code",
   "execution_count": 4,
   "metadata": {},
   "outputs": [],
   "source": [
    "from urllib.parse import unquote, quote\n",
    "\n",
    "# this class is copy from others library that already on the internet\n",
    "# in order to make py homework execute simpler and easier, I only copy the code that I need this time\n",
    "class Request:\n",
    "    def __init__(self, r):\n",
    "        self.content = r\n",
    "        self.method = r.split()[0]\n",
    "        self.path = r.split()[1]\n",
    "        self.body = r.split('\\r\\n\\r\\n', 1)[1]\n",
    "\n",
    "    def form_body(self):\n",
    "        return self._parse_parameter(self.body)\n",
    "\n",
    "    def parse_path(self):\n",
    "        index = self.path.find('?')\n",
    "        if index == -1:\n",
    "            return self.path, {}\n",
    "        else:\n",
    "            path, query_string = self.path.split('?', 1)\n",
    "            query = self._parse_parameter(query_string)\n",
    "            return path, query\n",
    "\n",
    "    # the method to access header porperty\n",
    "    @property\n",
    "    def headers(self):\n",
    "        header_content = self.content.split('\\r\\n\\r\\n', 1)[0].split('\\r\\n')[1:]\n",
    "        result = {}\n",
    "        for line in header_content:\n",
    "            k, v = line.split(': ')\n",
    "            result[quote(k)] = quote(v)\n",
    "        return result\n",
    "\n",
    "    # the method only use in this class \n",
    "    @staticmethod\n",
    "    def _parse_parameter(parameters):\n",
    "        args = parameters.split('&')\n",
    "        query = {}\n",
    "        for arg in args:\n",
    "            k, v = arg.split('=')\n",
    "            query[k] = unquote(v)\n",
    "        return query"
   ]
  },
  {
   "cell_type": "code",
   "execution_count": 5,
   "metadata": {},
   "outputs": [],
   "source": [
    "import os\n",
    "def response_for_request(request):\n",
    "    # make the absolute path of the directory\n",
    "    path = os.getcwd()\n",
    "    path += request.parse_path()[0]\n",
    "    print(path)\n",
    "\n",
    "    # send different response refer to different homework request\n",
    "    if request.parse_path()[0] == \"/redirect.html\":\n",
    "        return \"HTTP/1.1 301 Moved Permanently\\nContent-Type: text/html\\nLocation: /good.html\".encode('utf-8')\n",
    "    elif request.parse_path()[0] == \"/good.html\":\n",
    "        return \"HTTP/1.1 200 OK\\nContent-Type: text/html\\n\\n<html><head><link href=\\\"style.css\\\" rel=\\\"stylesheet\\\" type=\\\"text/css\\\"></head><body>good</body></html>\".encode('utf-8')\n",
    "    elif request.parse_path()[0] == \"/style.css\":\n",
    "        return \"HTTP/1.1 200 OK\\nContent-Type: text/css\\n\\nBody {color: red;}\".encode('utf-8')\n",
    "    else:\n",
    "        return \"HTTP/1.1 404 Not Found\\n\\n<html>body><center><h3>Error 404: File not found</h3><p>Python HTTP Server</p></center></body></html>\".encode('utf-8')"
   ]
  },
  {
   "cell_type": "code",
   "execution_count": 6,
   "metadata": {},
   "outputs": [],
   "source": [
    "import time\n",
    "\n",
    "count = 0\n",
    "\n",
    "def serveClient(connection, address):\n",
    "    global count \n",
    "    count += 1\n",
    "    # input the data piles refer to buffer_size\n",
    "    stream_r = ''\n",
    "    buffer_size = 1024\n",
    "    while True:\n",
    "        data = connection.recv(1024).decode('utf-8')\n",
    "        stream_r += data\n",
    "        # if the data stream finish\n",
    "        if len(data) < buffer_size:\n",
    "            break\n",
    "    \n",
    "    # if the request is empty than it don't need to response\n",
    "    if len(stream_r.split()) < 2:\n",
    "        return\n",
    "\n",
    "    # parse http header into request object\n",
    "    request = Request(stream_r)\n",
    "\n",
    "    # get response generate from my function\n",
    "    response = response_for_request(request)\n",
    "\n",
    "    # output the message to log file for debugging\n",
    "    with open(\"message.log\", \"a\") as myfile:\n",
    "        myfile.write(\"TCP count: \" + str(count) + '\\n')\n",
    "        myfile.write(time.ctime() + request.method + request.path + \" \")\n",
    "        myfile.write(str(response))\n",
    "        myfile.write(\"\\n\")\n",
    "\n",
    "    # send the response\n",
    "    connection.sendall(response)\n",
    "    connection.close()\n",
    "\n",
    "    count -= 1"
   ]
  },
  {
   "cell_type": "code",
   "execution_count": 7,
   "metadata": {},
   "outputs": [],
   "source": [
    "import socket\n",
    "import threading\n",
    "\n",
    "def run_server(host='127.0.0.1', port=8888):\n",
    "    # Create socket\n",
    "    with socket.socket(socket.AF_INET, socket.SOCK_STREAM) as s:\n",
    "        s.setsockopt(socket.SOL_SOCKET, socket.SO_REUSEADDR, 1)\n",
    "        # set binded host and port\n",
    "        s.bind((host, port))\n",
    "        while True:\n",
    "            #listening with at most five client\n",
    "            s.listen(5)\n",
    "\n",
    "            # accept the connection\n",
    "            connection, address = s.accept()\n",
    "            #print(connection)\n",
    "            #print(address)\n",
    "\n",
    "            # thread the serveClient(connection, address) function\n",
    "            threading.Thread(target = serveClient, args = (connection, address)).start()\n",
    "            \n",
    "            "
   ]
  },
  {
   "cell_type": "code",
   "execution_count": 8,
   "metadata": {},
   "outputs": [
    {
     "name": "stdout",
     "output_type": "stream",
     "text": [
      "/Users/yjack0827/Desktop/http_server_AS1/html/good.html\n",
      "/Users/yjack0827/Desktop/http_server_AS1/html/style.css\n",
      "/Users/yjack0827/Desktop/http_server_AS1/html/good.html\n",
      "/Users/yjack0827/Desktop/http_server_AS1/html/style.css\n",
      "/Users/yjack0827/Desktop/http_server_AS1/html/good.html\n",
      "/Users/yjack0827/Desktop/http_server_AS1/html/style.css\n",
      "/Users/yjack0827/Desktop/http_server_AS1/html/favicon.ico\n",
      "/Users/yjack0827/Desktop/http_server_AS1/html/redirect.html\n",
      "/Users/yjack0827/Desktop/http_server_AS1/html/good.html\n",
      "/Users/yjack0827/Desktop/http_server_AS1/html/style.css\n"
     ]
    },
    {
     "ename": "KeyboardInterrupt",
     "evalue": "",
     "output_type": "error",
     "traceback": [
      "\u001b[0;31m---------------------------------------------------------------------------\u001b[0m",
      "\u001b[0;31mKeyboardInterrupt\u001b[0m                         Traceback (most recent call last)",
      "\u001b[0;32m<ipython-input-8-67a6d50fd596>\u001b[0m in \u001b[0;36m<module>\u001b[0;34m\u001b[0m\n\u001b[0;32m----> 1\u001b[0;31m \u001b[0mrun_server\u001b[0m\u001b[0;34m(\u001b[0m\u001b[0;34m'127.0.0.1'\u001b[0m\u001b[0;34m,\u001b[0m \u001b[0;36m8888\u001b[0m\u001b[0;34m)\u001b[0m\u001b[0;34m\u001b[0m\u001b[0;34m\u001b[0m\u001b[0m\n\u001b[0m",
      "\u001b[0;32m<ipython-input-7-1c554345afd5>\u001b[0m in \u001b[0;36mrun_server\u001b[0;34m(host, port)\u001b[0m\n\u001b[1;32m     13\u001b[0m \u001b[0;34m\u001b[0m\u001b[0m\n\u001b[1;32m     14\u001b[0m             \u001b[0;31m# accept the connection\u001b[0m\u001b[0;34m\u001b[0m\u001b[0;34m\u001b[0m\u001b[0;34m\u001b[0m\u001b[0m\n\u001b[0;32m---> 15\u001b[0;31m             \u001b[0mconnection\u001b[0m\u001b[0;34m,\u001b[0m \u001b[0maddress\u001b[0m \u001b[0;34m=\u001b[0m \u001b[0ms\u001b[0m\u001b[0;34m.\u001b[0m\u001b[0maccept\u001b[0m\u001b[0;34m(\u001b[0m\u001b[0;34m)\u001b[0m\u001b[0;34m\u001b[0m\u001b[0;34m\u001b[0m\u001b[0m\n\u001b[0m\u001b[1;32m     16\u001b[0m             \u001b[0;31m#print(connection)\u001b[0m\u001b[0;34m\u001b[0m\u001b[0;34m\u001b[0m\u001b[0;34m\u001b[0m\u001b[0m\n\u001b[1;32m     17\u001b[0m             \u001b[0;31m#print(address)\u001b[0m\u001b[0;34m\u001b[0m\u001b[0;34m\u001b[0m\u001b[0;34m\u001b[0m\u001b[0m\n",
      "\u001b[0;32m~/anaconda3/lib/python3.7/socket.py\u001b[0m in \u001b[0;36maccept\u001b[0;34m(self)\u001b[0m\n\u001b[1;32m    210\u001b[0m         \u001b[0mFor\u001b[0m \u001b[0mIP\u001b[0m \u001b[0msockets\u001b[0m\u001b[0;34m,\u001b[0m \u001b[0mthe\u001b[0m \u001b[0maddress\u001b[0m \u001b[0minfo\u001b[0m \u001b[0;32mis\u001b[0m \u001b[0ma\u001b[0m \u001b[0mpair\u001b[0m \u001b[0;34m(\u001b[0m\u001b[0mhostaddr\u001b[0m\u001b[0;34m,\u001b[0m \u001b[0mport\u001b[0m\u001b[0;34m)\u001b[0m\u001b[0;34m.\u001b[0m\u001b[0;34m\u001b[0m\u001b[0;34m\u001b[0m\u001b[0m\n\u001b[1;32m    211\u001b[0m         \"\"\"\n\u001b[0;32m--> 212\u001b[0;31m         \u001b[0mfd\u001b[0m\u001b[0;34m,\u001b[0m \u001b[0maddr\u001b[0m \u001b[0;34m=\u001b[0m \u001b[0mself\u001b[0m\u001b[0;34m.\u001b[0m\u001b[0m_accept\u001b[0m\u001b[0;34m(\u001b[0m\u001b[0;34m)\u001b[0m\u001b[0;34m\u001b[0m\u001b[0;34m\u001b[0m\u001b[0m\n\u001b[0m\u001b[1;32m    213\u001b[0m         \u001b[0msock\u001b[0m \u001b[0;34m=\u001b[0m \u001b[0msocket\u001b[0m\u001b[0;34m(\u001b[0m\u001b[0mself\u001b[0m\u001b[0;34m.\u001b[0m\u001b[0mfamily\u001b[0m\u001b[0;34m,\u001b[0m \u001b[0mself\u001b[0m\u001b[0;34m.\u001b[0m\u001b[0mtype\u001b[0m\u001b[0;34m,\u001b[0m \u001b[0mself\u001b[0m\u001b[0;34m.\u001b[0m\u001b[0mproto\u001b[0m\u001b[0;34m,\u001b[0m \u001b[0mfileno\u001b[0m\u001b[0;34m=\u001b[0m\u001b[0mfd\u001b[0m\u001b[0;34m)\u001b[0m\u001b[0;34m\u001b[0m\u001b[0;34m\u001b[0m\u001b[0m\n\u001b[1;32m    214\u001b[0m         \u001b[0;31m# Issue #7995: if no default timeout is set and the listening\u001b[0m\u001b[0;34m\u001b[0m\u001b[0;34m\u001b[0m\u001b[0;34m\u001b[0m\u001b[0m\n",
      "\u001b[0;31mKeyboardInterrupt\u001b[0m: "
     ]
    }
   ],
   "source": [
    "run_server('127.0.0.1', 8888)"
   ]
  }
 ],
 "metadata": {
  "interpreter": {
   "hash": "5d204e1df3aa9df64e420ba1bb5175ab458ce49c717f4fc477ec63c21ffae113"
  },
  "kernelspec": {
   "display_name": "Python 3.7.3 64-bit ('base': conda)",
   "language": "python",
   "name": "python3"
  },
  "language_info": {
   "codemirror_mode": {
    "name": "ipython",
    "version": 3
   },
   "file_extension": ".py",
   "mimetype": "text/x-python",
   "name": "python",
   "nbconvert_exporter": "python",
   "pygments_lexer": "ipython3",
   "version": "3.7.3"
  },
  "orig_nbformat": 4
 },
 "nbformat": 4,
 "nbformat_minor": 2
}
